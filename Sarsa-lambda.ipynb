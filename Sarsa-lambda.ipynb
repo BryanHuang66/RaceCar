{
 "cells": [
  {
   "cell_type": "code",
   "execution_count": null,
   "metadata": {},
   "outputs": [],
   "source": [
    "import os\n",
    "import numpy as np\n",
    "import cv2\n",
    "import numpy as np\n",
    "import matplotlib.pyplot as plt\n",
    "import tkinter as tk\n",
    "import sys\n",
    "import time\n",
    "import pandas as pd\n",
    "from tqdm import tqdm\n",
    "import random"
   ]
  },
  {
   "cell_type": "code",
   "execution_count": null,
   "metadata": {},
   "outputs": [],
   "source": [
    "from source.env import RaceTrackEnv\n",
    "from source.visibility import MazeConstructor\n",
    "from source.reinforce_algo import SarsaLambda"
   ]
  },
  {
   "cell_type": "code",
   "execution_count": null,
   "metadata": {},
   "outputs": [],
   "source": [
    "def callback(event):\n",
    "    # print( \"clicked at:\", event.x, event.y)#打印出该事件（按下鼠标）的x，y轴\n",
    "    oval = [event.x//16,event.y//16]\n",
    "    if oval in start_point_list:\n",
    "        vis.reset([],oval) \n",
    "        env.position = (oval[1],oval[0])\n",
    "        env.velocity = (0,0)\n",
    "        path = sarsa_lambda.predict(((oval[1],oval[0]),(0,0)))\n",
    "        print(path)\n",
    "        path_list = []\n",
    "        for item in path:\n",
    "            path_list.append([item[0][1],item[0][0]])\n",
    "        vis.reset(path_list,oval)\n",
    "\n",
    "env = RaceTrackEnv(\"env/race2.txt\",5)\n",
    "sarsa_lambda = SarsaLambda(env,epsilon=0.05,gamma=0.95,num_episodes=10000)\n",
    "sarsa_lambda.forward()\n",
    "start_point = np.where(env.race==2)\n",
    "start_point_list = []\n",
    "for i in range(len(start_point[0])):\n",
    "    start_point_list.append([start_point[1][i],start_point[0][i]])\n",
    "vis = MazeConstructor(env,[],[])\n",
    "vis.bind(\"<Button-1>\", callback)\n",
    "vis.mainloop()"
   ]
  }
 ],
 "metadata": {
  "kernelspec": {
   "display_name": "statistic-homework",
   "language": "python",
   "name": "python3"
  },
  "language_info": {
   "codemirror_mode": {
    "name": "ipython",
    "version": 3
   },
   "file_extension": ".py",
   "mimetype": "text/x-python",
   "name": "python",
   "nbconvert_exporter": "python",
   "pygments_lexer": "ipython3",
   "version": "3.8.15"
  },
  "orig_nbformat": 4
 },
 "nbformat": 4,
 "nbformat_minor": 2
}
